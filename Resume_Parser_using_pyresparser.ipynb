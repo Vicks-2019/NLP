{
  "nbformat": 4,
  "nbformat_minor": 0,
  "metadata": {
    "colab": {
      "name": "Resume_Parser_using_pyresparser.ipynb",
      "provenance": [],
      "mount_file_id": "1VXU-FhQntWHsnJTRnRBC_CrcLkdVrySZ",
      "authorship_tag": "ABX9TyPD6Xvd4MhnBqStazZkEcmx",
      "include_colab_link": true
    },
    "kernelspec": {
      "name": "python3",
      "display_name": "Python 3"
    }
  },
  "cells": [
    {
      "cell_type": "markdown",
      "metadata": {
        "id": "view-in-github",
        "colab_type": "text"
      },
      "source": [
        "<a href=\"https://colab.research.google.com/github/Vicks-2019/NLP/blob/master/Resume_Parser_using_pyresparser.ipynb\" target=\"_parent\"><img src=\"https://colab.research.google.com/assets/colab-badge.svg\" alt=\"Open In Colab\"/></a>"
      ]
    },
    {
      "cell_type": "code",
      "metadata": {
        "colab": {
          "base_uri": "https://localhost:8080/",
          "height": 1000
        },
        "id": "z41zTn5uz_Fs",
        "outputId": "92959153-e83b-45b6-fb37-3a093a4e5d68"
      },
      "source": [
        "pip install pyresparser"
      ],
      "execution_count": 1,
      "outputs": [
        {
          "output_type": "stream",
          "text": [
            "Collecting pyresparser\n",
            "\u001b[?25l  Downloading https://files.pythonhosted.org/packages/be/1c/0b84af1e9b9f5236c9a7f3e7bd306a4cb5c71eef15cc27ed343a3ceb5996/pyresparser-1.0.6-py3-none-any.whl (4.2MB)\n",
            "\u001b[K     |████████████████████████████████| 4.2MB 5.5MB/s \n",
            "\u001b[?25hCollecting urllib3>=1.25.3\n",
            "\u001b[?25l  Downloading https://files.pythonhosted.org/packages/f5/71/45d36a8df68f3ebb098d6861b2c017f3d094538c0fb98fa61d4dc43e69b9/urllib3-1.26.2-py2.py3-none-any.whl (136kB)\n",
            "\u001b[K     |████████████████████████████████| 143kB 36.7MB/s \n",
            "\u001b[?25hCollecting pytz>=2019.1\n",
            "\u001b[?25l  Downloading https://files.pythonhosted.org/packages/12/f8/ff09af6ff61a3efaad5f61ba5facdf17e7722c4393f7d8a66674d2dbd29f/pytz-2020.4-py2.py3-none-any.whl (509kB)\n",
            "\u001b[K     |████████████████████████████████| 512kB 39.0MB/s \n",
            "\u001b[?25hRequirement already satisfied: tqdm>=4.32.2 in /usr/local/lib/python3.6/dist-packages (from pyresparser) (4.41.1)\n",
            "Requirement already satisfied: cymem>=2.0.2 in /usr/local/lib/python3.6/dist-packages (from pyresparser) (2.0.5)\n",
            "Requirement already satisfied: idna>=2.8 in /usr/local/lib/python3.6/dist-packages (from pyresparser) (2.10)\n",
            "Requirement already satisfied: numpy>=1.16.4 in /usr/local/lib/python3.6/dist-packages (from pyresparser) (1.18.5)\n",
            "Collecting docx2txt>=0.7\n",
            "  Downloading https://files.pythonhosted.org/packages/7d/7d/60ee3f2b16d9bfdfa72e8599470a2c1a5b759cb113c6fe1006be28359327/docx2txt-0.8.tar.gz\n",
            "Requirement already satisfied: preshed>=2.0.1 in /usr/local/lib/python3.6/dist-packages (from pyresparser) (3.0.5)\n",
            "Requirement already satisfied: attrs>=19.1.0 in /usr/local/lib/python3.6/dist-packages (from pyresparser) (20.3.0)\n",
            "Collecting jsonschema>=3.0.1\n",
            "\u001b[?25l  Downloading https://files.pythonhosted.org/packages/c5/8f/51e89ce52a085483359217bc72cdbf6e75ee595d5b1d4b5ade40c7e018b8/jsonschema-3.2.0-py2.py3-none-any.whl (56kB)\n",
            "\u001b[K     |████████████████████████████████| 61kB 7.5MB/s \n",
            "\u001b[?25hRequirement already satisfied: wasabi>=0.2.2 in /usr/local/lib/python3.6/dist-packages (from pyresparser) (0.8.0)\n",
            "Requirement already satisfied: requests>=2.22.0 in /usr/local/lib/python3.6/dist-packages (from pyresparser) (2.23.0)\n",
            "Requirement already satisfied: blis>=0.2.4 in /usr/local/lib/python3.6/dist-packages (from pyresparser) (0.4.1)\n",
            "Requirement already satisfied: python-dateutil>=2.8.0 in /usr/local/lib/python3.6/dist-packages (from pyresparser) (2.8.1)\n",
            "Requirement already satisfied: thinc>=7.0.4 in /usr/local/lib/python3.6/dist-packages (from pyresparser) (7.4.0)\n",
            "Collecting pycryptodome>=3.8.2\n",
            "\u001b[?25l  Downloading https://files.pythonhosted.org/packages/2b/6f/7e38d7c97fbbc3987539c804282c33f56b6b07381bf2390deead696440c5/pycryptodome-3.9.9-cp36-cp36m-manylinux1_x86_64.whl (13.7MB)\n",
            "\u001b[K     |████████████████████████████████| 13.7MB 304kB/s \n",
            "\u001b[?25hRequirement already satisfied: certifi>=2019.6.16 in /usr/local/lib/python3.6/dist-packages (from pyresparser) (2020.12.5)\n",
            "Requirement already satisfied: spacy>=2.1.4 in /usr/local/lib/python3.6/dist-packages (from pyresparser) (2.2.4)\n",
            "Requirement already satisfied: sortedcontainers>=2.1.0 in /usr/local/lib/python3.6/dist-packages (from pyresparser) (2.3.0)\n",
            "Requirement already satisfied: chardet>=3.0.4 in /usr/local/lib/python3.6/dist-packages (from pyresparser) (3.0.4)\n",
            "Collecting nltk>=3.4.3\n",
            "\u001b[?25l  Downloading https://files.pythonhosted.org/packages/92/75/ce35194d8e3022203cca0d2f896dbb88689f9b3fce8e9f9cff942913519d/nltk-3.5.zip (1.4MB)\n",
            "\u001b[K     |████████████████████████████████| 1.4MB 45.0MB/s \n",
            "\u001b[?25hRequirement already satisfied: srsly>=0.0.7 in /usr/local/lib/python3.6/dist-packages (from pyresparser) (1.0.5)\n",
            "Collecting pdfminer.six>=20181108\n",
            "\u001b[?25l  Downloading https://files.pythonhosted.org/packages/93/f3/4fec7dabe8802ebec46141345bf714cd1fc7d93cb74ddde917e4b6d97d88/pdfminer.six-20201018-py3-none-any.whl (5.6MB)\n",
            "\u001b[K     |████████████████████████████████| 5.6MB 43.7MB/s \n",
            "\u001b[?25hRequirement already satisfied: six>=1.12.0 in /usr/local/lib/python3.6/dist-packages (from pyresparser) (1.15.0)\n",
            "Requirement already satisfied: pyrsistent>=0.15.2 in /usr/local/lib/python3.6/dist-packages (from pyresparser) (0.17.3)\n",
            "Requirement already satisfied: pandas>=0.24.2 in /usr/local/lib/python3.6/dist-packages (from pyresparser) (1.1.5)\n",
            "Requirement already satisfied: murmurhash<1.1.0,>=0.28.0 in /usr/local/lib/python3.6/dist-packages (from preshed>=2.0.1->pyresparser) (1.0.5)\n",
            "Requirement already satisfied: setuptools in /usr/local/lib/python3.6/dist-packages (from jsonschema>=3.0.1->pyresparser) (50.3.2)\n",
            "Requirement already satisfied: importlib-metadata; python_version < \"3.8\" in /usr/local/lib/python3.6/dist-packages (from jsonschema>=3.0.1->pyresparser) (3.1.1)\n",
            "Requirement already satisfied: catalogue<1.1.0,>=0.0.7 in /usr/local/lib/python3.6/dist-packages (from thinc>=7.0.4->pyresparser) (1.0.0)\n",
            "Requirement already satisfied: plac<1.2.0,>=0.9.6 in /usr/local/lib/python3.6/dist-packages (from thinc>=7.0.4->pyresparser) (1.1.3)\n",
            "Requirement already satisfied: click in /usr/local/lib/python3.6/dist-packages (from nltk>=3.4.3->pyresparser) (7.1.2)\n",
            "Requirement already satisfied: joblib in /usr/local/lib/python3.6/dist-packages (from nltk>=3.4.3->pyresparser) (0.17.0)\n",
            "Requirement already satisfied: regex in /usr/local/lib/python3.6/dist-packages (from nltk>=3.4.3->pyresparser) (2019.12.20)\n",
            "Collecting cryptography\n",
            "\u001b[?25l  Downloading https://files.pythonhosted.org/packages/c9/de/7054df0620b5411ba45480f0261e1fb66a53f3db31b28e3aa52c026e72d9/cryptography-3.3.1-cp36-abi3-manylinux2010_x86_64.whl (2.6MB)\n",
            "\u001b[K     |████████████████████████████████| 2.6MB 39.0MB/s \n",
            "\u001b[?25hRequirement already satisfied: zipp>=0.5 in /usr/local/lib/python3.6/dist-packages (from importlib-metadata; python_version < \"3.8\"->jsonschema>=3.0.1->pyresparser) (3.4.0)\n",
            "Requirement already satisfied: cffi>=1.12 in /usr/local/lib/python3.6/dist-packages (from cryptography->pdfminer.six>=20181108->pyresparser) (1.14.4)\n",
            "Requirement already satisfied: pycparser in /usr/local/lib/python3.6/dist-packages (from cffi>=1.12->cryptography->pdfminer.six>=20181108->pyresparser) (2.20)\n",
            "Building wheels for collected packages: docx2txt, nltk\n",
            "  Building wheel for docx2txt (setup.py) ... \u001b[?25l\u001b[?25hdone\n",
            "  Created wheel for docx2txt: filename=docx2txt-0.8-cp36-none-any.whl size=3963 sha256=b710bc10409305f4be2ee9b4e5bdda81d21ba787987f170643a9bdd1fce97523\n",
            "  Stored in directory: /root/.cache/pip/wheels/b2/1f/26/a051209bbb77fc6bcfae2bb7e01fa0ff941b82292ab084d596\n",
            "  Building wheel for nltk (setup.py) ... \u001b[?25l\u001b[?25hdone\n",
            "  Created wheel for nltk: filename=nltk-3.5-cp36-none-any.whl size=1434678 sha256=b00894bc85cd9e6c84721f6a258f6f9872176a78ee19950a69a9dfcaaf60940e\n",
            "  Stored in directory: /root/.cache/pip/wheels/ae/8c/3f/b1fe0ba04555b08b57ab52ab7f86023639a526d8bc8d384306\n",
            "Successfully built docx2txt nltk\n",
            "\u001b[31mERROR: requests 2.23.0 has requirement urllib3!=1.25.0,!=1.25.1,<1.26,>=1.21.1, but you'll have urllib3 1.26.2 which is incompatible.\u001b[0m\n",
            "\u001b[31mERROR: nbclient 0.5.1 has requirement jupyter-client>=6.1.5, but you'll have jupyter-client 5.3.5 which is incompatible.\u001b[0m\n",
            "\u001b[31mERROR: datascience 0.10.6 has requirement folium==0.2.1, but you'll have folium 0.8.3 which is incompatible.\u001b[0m\n",
            "\u001b[31mERROR: convertdate 2.2.0 has requirement pytz<2020,>=2014.10, but you'll have pytz 2020.4 which is incompatible.\u001b[0m\n",
            "Installing collected packages: urllib3, pytz, docx2txt, jsonschema, pycryptodome, nltk, cryptography, pdfminer.six, pyresparser\n",
            "  Found existing installation: urllib3 1.24.3\n",
            "    Uninstalling urllib3-1.24.3:\n",
            "      Successfully uninstalled urllib3-1.24.3\n",
            "  Found existing installation: pytz 2018.9\n",
            "    Uninstalling pytz-2018.9:\n",
            "      Successfully uninstalled pytz-2018.9\n",
            "  Found existing installation: jsonschema 2.6.0\n",
            "    Uninstalling jsonschema-2.6.0:\n",
            "      Successfully uninstalled jsonschema-2.6.0\n",
            "  Found existing installation: nltk 3.2.5\n",
            "    Uninstalling nltk-3.2.5:\n",
            "      Successfully uninstalled nltk-3.2.5\n",
            "Successfully installed cryptography-3.3.1 docx2txt-0.8 jsonschema-3.2.0 nltk-3.5 pdfminer.six-20201018 pycryptodome-3.9.9 pyresparser-1.0.6 pytz-2020.4 urllib3-1.26.2\n"
          ],
          "name": "stdout"
        },
        {
          "output_type": "display_data",
          "data": {
            "application/vnd.colab-display-data+json": {
              "pip_warning": {
                "packages": [
                  "pytz"
                ]
              }
            }
          },
          "metadata": {
            "tags": []
          }
        }
      ]
    },
    {
      "cell_type": "code",
      "metadata": {
        "colab": {
          "base_uri": "https://localhost:8080/"
        },
        "id": "1ccE4eJo0sQH",
        "outputId": "1f3881ff-9d7e-4c2b-a684-89ee81d5691a"
      },
      "source": [
        "import spacy\r\n",
        "from spacy.matcher import Matcher\r\n",
        "\r\n",
        "# load pre-trained model\r\n",
        "nlp = spacy.load('en_core_web_sm')"
      ],
      "execution_count": 2,
      "outputs": [
        {
          "output_type": "stream",
          "text": [
            "/usr/local/lib/python3.6/dist-packages/requests/__init__.py:91: RequestsDependencyWarning: urllib3 (1.26.2) or chardet (3.0.4) doesn't match a supported version!\n",
            "  RequestsDependencyWarning)\n"
          ],
          "name": "stderr"
        }
      ]
    },
    {
      "cell_type": "code",
      "metadata": {
        "colab": {
          "base_uri": "https://localhost:8080/"
        },
        "id": "gurO20aN0yKU",
        "outputId": "54f216d9-e827-40fe-d66e-28818ae81b4e"
      },
      "source": [
        "import nltk\r\n",
        "nltk.download('words')\r\n",
        "from nltk.corpus import stopwords"
      ],
      "execution_count": 3,
      "outputs": [
        {
          "output_type": "stream",
          "text": [
            "[nltk_data] Downloading package words to /root/nltk_data...\n",
            "[nltk_data]   Unzipping corpora/words.zip.\n"
          ],
          "name": "stderr"
        }
      ]
    },
    {
      "cell_type": "code",
      "metadata": {
        "colab": {
          "base_uri": "https://localhost:8080/"
        },
        "id": "PAZvFP7U07Z2",
        "outputId": "55101ef1-058b-4364-ba64-66e8158d6606"
      },
      "source": [
        "nltk.download('stopwords')"
      ],
      "execution_count": 5,
      "outputs": [
        {
          "output_type": "stream",
          "text": [
            "[nltk_data] Downloading package stopwords to /root/nltk_data...\n",
            "[nltk_data]   Unzipping corpora/stopwords.zip.\n"
          ],
          "name": "stderr"
        },
        {
          "output_type": "execute_result",
          "data": {
            "text/plain": [
              "True"
            ]
          },
          "metadata": {
            "tags": []
          },
          "execution_count": 5
        }
      ]
    },
    {
      "cell_type": "code",
      "metadata": {
        "id": "pCQIbJsx0Biv"
      },
      "source": [
        "from pyresparser import ResumeParser\r\n",
        "data = ResumeParser('/content/drive/MyDrive/Resume_NKR (1).pdf').get_extracted_data()"
      ],
      "execution_count": 7,
      "outputs": []
    },
    {
      "cell_type": "code",
      "metadata": {
        "colab": {
          "base_uri": "https://localhost:8080/"
        },
        "id": "5sY3GWdj0euP",
        "outputId": "713f06ef-1970-4c6f-dcf9-5cff5e6925e7"
      },
      "source": [
        "data"
      ],
      "execution_count": 8,
      "outputs": [
        {
          "output_type": "execute_result",
          "data": {
            "text/plain": [
              "{'college_name': None,\n",
              " 'company_names': ['kotak Mahindra Bank Ltd'],\n",
              " 'degree': ['B.E. in Electrical and Electronics engineering'],\n",
              " 'designation': ['Assistant Manager'],\n",
              " 'email': 'vickynicky.99@gmail.com',\n",
              " 'experience': ['Assetplus consulting',\n",
              "  'Data Analyst',\n",
              "  '\\uf0b7  Data cleaning, Data preparation , Data Visualization',\n",
              "  '\\uf0b7  Working on project for predicting consumer payment behavior based on past behavior using R as',\n",
              "  'Jul 2019 – Present',\n",
              "  'Well as python for DISCOM and helping them to earn their revenue on time',\n",
              "  '\\uf0b7  Working on project on E- Tagging using (Natural language Processing) to predict fake consumers by finding',\n",
              "  'the fake connections.',\n",
              "  '\\uf0b7  Proficiency in utilizing Tableau Visualization like Dual axis , Bar Graphs, Scatter Plots , Pie- Charts , Heat Maps,',\n",
              "  'Histograms , Box Plots and  many more along with preparing dataset using joins , blending , union from',\n",
              "  'different data sources.',\n",
              "  'kotak Mahindra Bank Ltd                                                                                                           Sep 2018 – Feb 2019',\n",
              "  'Assistant Manager',\n",
              "  '\\uf0b7  To prepare MIS report weekly & monthly as per set norms using MS Excel , MS Doc.',\n",
              "  '\\uf0b7  To handle the business caese and ensure proper solution to corporates by analyzing the data.',\n",
              "  '\\uf0b7  To make synergy with the other verticals of the organization in order to prepare the report.',\n",
              "  '\\uf0b7  To prepare report to help auditing and hence enhancing the organization performance.',\n",
              "  'STEAG Energy Services (India) Pvt Ltd',\n",
              "  'Planning & Operation Engineer',\n",
              "  '\\uf0b7  Analyze key metrics, identify key trends and prepare reports and presentation for management',\n",
              "  '\\uf0b7  Developed visualization reports for daily, weekly, monthly and yearly conversion for timely comparison.',\n",
              "  '\\uf0b7  Complete requirement analysis, trouble shooting and finding RCA of issues for the test & Production',\n",
              "  'Oct 2011 – May 2016',\n",
              "  'environment.',\n",
              "  '\\uf0b7  Maintaining 5s in the area & Evaluating Data sources and strong understanding of Data  warehouses',\n",
              "  '\\uf0b7  PG Diploma Certification in Data science & Machine learning (DataTrained) in 2019-2020',\n",
              "  '\\uf0b7  MBA (Finance & Marketing) from CMS (Centre for Management Studies, JMI) in session 2016-2018 with',\n",
              "  '8.0 CGPA till last Semester.',\n",
              "  '\\uf0b7  B.E. in Electrical and Electronics engineering from VTU University Bangalore with 69%'],\n",
              " 'mobile_number': '9205083231',\n",
              " 'name': 'VIKASH KUMAR',\n",
              " 'no_of_pages': 1,\n",
              " 'skills': ['Python',\n",
              "  'Analyze',\n",
              "  'Presentation',\n",
              "  'Github',\n",
              "  'Keras',\n",
              "  'Segmentation',\n",
              "  'R',\n",
              "  'Mysql',\n",
              "  'Excel',\n",
              "  'Forecasting',\n",
              "  'Nltk',\n",
              "  'Tensorflow',\n",
              "  'Ms excel',\n",
              "  'Numpy',\n",
              "  'Spacy',\n",
              "  'Seaborn',\n",
              "  'Metrics',\n",
              "  'C',\n",
              "  'Electronics',\n",
              "  'Marketing',\n",
              "  'Reports',\n",
              "  'Matplotlib',\n",
              "  'Consulting',\n",
              "  'Mis',\n",
              "  'Engineering',\n",
              "  'Finance',\n",
              "  'Cms',\n",
              "  'Machine learning',\n",
              "  'Tableau',\n",
              "  'Conversion',\n",
              "  'Scikit-learn',\n",
              "  'Certification',\n",
              "  'Analysis',\n",
              "  'Pandas',\n",
              "  'Electrical',\n",
              "  'Auditing',\n",
              "  'Process',\n",
              "  'Opencv',\n",
              "  'Analytical'],\n",
              " 'total_experience': 6.42}"
            ]
          },
          "metadata": {
            "tags": []
          },
          "execution_count": 8
        }
      ]
    },
    {
      "cell_type": "code",
      "metadata": {
        "id": "9BYqyoLm1PRP"
      },
      "source": [
        ""
      ],
      "execution_count": null,
      "outputs": []
    }
  ]
}